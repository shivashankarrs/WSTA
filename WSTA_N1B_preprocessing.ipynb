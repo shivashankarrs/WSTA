{
 "cells": [
  {
   "cell_type": "markdown",
   "metadata": {},
   "source": [
    "# Preprocessing with NLTK"
   ]
  },
  {
   "cell_type": "markdown",
   "metadata": {},
   "source": [
    "First, if you haven't used iPython notebooks before, in order to run the code on this workbook, you can use the run commands in the Cell menu, or do shift-enter when an individual code cell is selected. Generally, you will have to run the cells in order for them to work properly. The output for a given cell (in any) will appear below the code after it has completed running. To make sure things are working, run the cell bellow:"
   ]
  },
  {
   "cell_type": "code",
   "execution_count": 1,
   "metadata": {},
   "outputs": [
    {
     "name": "stdout",
     "output_type": "stream",
     "text": [
      "hello world\n"
     ]
    }
   ],
   "source": [
    "print \"hello world\" # substitute print(\"hello world\") if you're using python 3"
   ]
  },
  {
   "cell_type": "markdown",
   "metadata": {},
   "source": [
    "Okay, now let's do some simple preprocessing on this snippet from the html from the class website:"
   ]
  },
  {
   "cell_type": "code",
   "execution_count": 6,
   "metadata": {
    "collapsed": true
   },
   "outputs": [],
   "source": [
    "text = '''\n",
    " <body>\n",
    "    <!-- JavaScript plugins (requires jQuery) -->\n",
    "    <script src=\"http://code.jquery.com/jquery.js\"></script>\n",
    "    <!-- Include all compiled plugins (below), or include individual files as needed -->\n",
    "    <script src=\"js/bootstrap.min.js\"></script>\n",
    "\n",
    "    <div class=\"container\">\n",
    "      <div class=\"page-header\">\n",
    "  <h3>COMP90042 Web Search and Text Analysis</h3>\n",
    "</div>\n",
    "\n",
    "The aims for this subject is for students to develop an understanding of the main algorithms used in natural language processing and text retrieval, for use in a diverse range of\n",
    "applications including text classification, information retrieval, machine translation, and question answering. Topics to be\n",
    "covered include vector space models, part-of-speech tagging, n-gram language\n",
    "modelling, syntactic parsing and neural sequence models. The programming language used is Python, see <a href=\"python.html\">the\n",
    "detailed configuration instructions</a> for more information on its use in the workshops, assignments and\n",
    "installation at home. \n",
    "</body>\n",
    "'''"
   ]
  },
  {
   "cell_type": "markdown",
   "metadata": {},
   "source": [
    "First, let's remove the html markup using regular expressions"
   ]
  },
  {
   "cell_type": "code",
   "execution_count": 7,
   "metadata": {
    "scrolled": true
   },
   "outputs": [
    {
     "name": "stdout",
     "output_type": "stream",
     "text": [
      "COMP90042 Web Search and Text Analysis\n",
      "\n",
      "\n",
      "The aims for this subject is for students to develop an understanding of the main algorithms used in natural language processing and text retrieval, for use in a diverse range of\n",
      "applications including text classification, information retrieval, machine translation, and question answering. Topics to be\n",
      "covered include vector space models, part-of-speech tagging, n-gram language\n",
      "modelling, syntactic parsing and neural sequence models. The programming language used is Python, see the\n",
      "detailed configuration instructions for more information on its use in the workshops, assignments and\n",
      "installation at home. > cool!\n",
      "COMP90042 Web Search and Text Analysis\n",
      "\n",
      "\n",
      "The aims for this subject is for students to develop an understanding of the main algorithms used in natural language processing and text retrieval, for use in a diverse range of\n",
      "applications including text classification, information retrieval, machine translation, and question answering. Topics to be\n",
      "covered include vector space models, part-of-speech tagging, n-gram language\n",
      "modelling, syntactic parsing and neural sequence models. The programming language used is Python, see the\n",
      "detailed configuration instructions for more information on its use in the workshops, assignments and\n",
      "installation at home. > cool!\n"
     ]
    }
   ],
   "source": [
    "import re\n",
    "\n",
    "text = re.sub(\"<[^>]+>\", \"\", text).strip()\n",
    "print text\n"
   ]
  },
  {
   "cell_type": "markdown",
   "metadata": {},
   "source": [
    "Next let's segment the text into sentences. Though a simple method like splitting on periods would work well enough in this case, let's try a sentence segmenter from NLTK, which would be able to handle harder cases if they appeared in our text."
   ]
  },
  {
   "cell_type": "code",
   "execution_count": 5,
   "metadata": {},
   "outputs": [
    {
     "name": "stdout",
     "output_type": "stream",
     "text": [
      "['COMP90042 Web Search and Text Analysis\\n\\n\\nThe aims for this subject is for students to develop an understanding of the main algorithms used in natural language processing and text retrieval, for use in a diverse range of\\napplications including text classification, information retrieval, machine translation, and question answering.', 'Topics to be\\ncovered include vector space models, part-of-speech tagging, n-gram language\\nmodelling, syntactic parsing and neural sequence models.', 'The programming language used is Python, see the\\ndetailed configuration instructions for more information on its use in the workshops, assignments and\\ninstallation at home.']\n",
      "['The aims for this subject is for students to develop an understanding of the main algorithms used in natural language processing and text retrieval, for use in a diverse range of applications including text classification, information retrieval, machine translation, and question answering.', 'Topics to be covered include vector space models, part-of-speech tagging, n-gram language modelling, syntactic parsing and neural sequence models.', 'The programming language used is Python, see the detailed configuration instructions for more information on its use in the workshops, assignments and installation at home.']\n"
     ]
    }
   ],
   "source": [
    "import nltk\n",
    "sent_segmenter = nltk.data.load('tokenizers/punkt/english.pickle')\n",
    "\n",
    "sentences = sent_segmenter.tokenize(text)\n",
    "print sentences\n",
    "\n",
    "# Cleaning\n",
    "\n",
    "text = text.split(\"\\n\\n\\n\")[1].replace(\"\\n\", \" \")\n",
    "sentences = sent_segmenter.tokenize(text)\n",
    "print sentences\n"
   ]
  },
  {
   "cell_type": "markdown",
   "metadata": {},
   "source": [
    "NLTK also has a word tokenizer. For the first sentence, let's compare a naive split using spaces and the NTLK regex tokenizer"
   ]
  },
  {
   "cell_type": "code",
   "execution_count": 9,
   "metadata": {},
   "outputs": [
    {
     "name": "stdout",
     "output_type": "stream",
     "text": [
      "['The', 'aims', 'for', 'this', 'subject', 'is', 'for', 'students', 'to', 'develop', 'an', 'understanding', 'of', 'the', 'main', 'algorithms', 'used', 'in', 'natural', 'language', 'processing', 'and', 'text', 'retrieval', ',', 'for', 'use', 'in', 'a', 'diverse', 'range', 'of', 'applications', 'including', 'text', 'classification', ',', 'information', 'retrieval', ',', 'machine', 'translation', ',', 'and', 'question', 'answering', '.']\n",
      "['The', 'aims', 'for', 'this', 'subject', 'is', 'for', 'students', 'to', 'develop', 'an', 'understanding', 'of', 'the', 'main', 'algorithms', 'used', 'in', 'natural', 'language', 'processing', 'and', 'text', 'retrieval,', 'for', 'use', 'in', 'a', 'diverse', 'range', 'of', 'applications', 'including', 'text', 'classification,', 'information', 'retrieval,', 'machine', 'translation,', 'and', 'question', 'answering.']\n"
     ]
    }
   ],
   "source": [
    "word_tokenizer = nltk.tokenize.regexp.WordPunctTokenizer()\n",
    "\n",
    "tokenized_sentence = word_tokenizer.tokenize(sentences[0])\n",
    "print tokenized_sentence\n",
    "print sentences[0].split(\" \")"
   ]
  },
  {
   "cell_type": "markdown",
   "metadata": {},
   "source": [
    "The NLTK tokenizer correctly splits off commas and periods from the ends of words. It also splits up the hyphenated word \"cross-language\", which might be the right behavior for some applications, but not for others.\n",
    "\n",
    "Let's try out lemmatization. NLTK has a lemmatizer, though using it requires that we know the part of speech of the word. In this case, we'll just try verb lemmatization, and if doesn't change the word, we'll try noun."
   ]
  },
  {
   "cell_type": "code",
   "execution_count": 7,
   "metadata": {},
   "outputs": [
    {
     "name": "stdout",
     "output_type": "stream",
     "text": [
      "['The', u'aim', 'for', 'this', 'subject', u'be', 'for', u'student', 'to', 'develop', 'an', u'understand', 'of', 'the', 'main', u'algorithm', u'use', 'in', 'natural', 'language', u'process', 'and', 'text', 'retrieval', ',', 'for', 'use', 'in', 'a', 'diverse', 'range', 'of', u'application', u'include', 'text', 'classification', ',', 'information', 'retrieval', ',', 'machine', 'translation', ',', 'and', 'question', u'answer', '.']\n"
     ]
    }
   ],
   "source": [
    "lemmatizer = nltk.stem.wordnet.WordNetLemmatizer()\n",
    "\n",
    "def lemmatize(word):\n",
    "    lemma = lemmatizer.lemmatize(word,'v')\n",
    "    if lemma == word:\n",
    "        lemma = lemmatizer.lemmatize(word,'n')\n",
    "    return lemma\n",
    "\n",
    "print [lemmatize(token) for token in tokenized_sentence]"
   ]
  },
  {
   "cell_type": "markdown",
   "metadata": {},
   "source": [
    "Compare this to the result of stemming using the Porter Stemmer:"
   ]
  },
  {
   "cell_type": "code",
   "execution_count": 8,
   "metadata": {},
   "outputs": [
    {
     "name": "stdout",
     "output_type": "stream",
     "text": [
      "['the', u'aim', 'for', u'thi', 'subject', 'is', 'for', u'student', 'to', 'develop', 'an', u'understand', 'of', 'the', 'main', u'algorithm', u'use', 'in', u'natur', u'languag', u'process', 'and', 'text', u'retriev', ',', 'for', 'use', 'in', 'a', u'divers', u'rang', 'of', u'applic', u'includ', 'text', u'classif', ',', u'inform', u'retriev', ',', u'machin', u'translat', ',', 'and', 'question', u'answer', '.']\n"
     ]
    }
   ],
   "source": [
    "stemmer = nltk.stem.porter.PorterStemmer()\n",
    "print [stemmer.stem(token) for token in tokenized_sentence]"
   ]
  },
  {
   "cell_type": "code",
   "execution_count": 10,
   "metadata": {},
   "outputs": [
    {
     "name": "stdout",
     "output_type": "stream",
     "text": [
      "lem lemming\n"
     ]
    }
   ],
   "source": [
    "word = \"lemming\"\n",
    "print stemmer.stem(word), lemmatize(word)"
   ]
  },
  {
   "cell_type": "code",
   "execution_count": 13,
   "metadata": {},
   "outputs": [
    {
     "data": {
      "text/plain": [
       "[\"'\",\n",
       " 'I',\n",
       " 'said',\n",
       " ',',\n",
       " \"'\",\n",
       " 'what',\n",
       " \"'\",\n",
       " 're',\n",
       " 'you',\n",
       " '?',\n",
       " 'Crazy',\n",
       " \"?''\",\n",
       " 'said',\n",
       " 'Sandowsky',\n",
       " '.',\n",
       " 'great',\n",
       " '-',\n",
       " 'job']"
      ]
     },
     "execution_count": 13,
     "metadata": {},
     "output_type": "execute_result"
    }
   ],
   "source": [
    "word_tokenizer.tokenize(\"'I said, 'what're you? Crazy?'' said Sandowsky.\")\n"
   ]
  }
 ],
 "metadata": {
  "kernelspec": {
   "display_name": "Python 2",
   "language": "python",
   "name": "python2"
  },
  "language_info": {
   "codemirror_mode": {
    "name": "ipython",
    "version": 2
   },
   "file_extension": ".py",
   "mimetype": "text/x-python",
   "name": "python",
   "nbconvert_exporter": "python",
   "pygments_lexer": "ipython2",
   "version": "2.7.13"
  }
 },
 "nbformat": 4,
 "nbformat_minor": 1
}
